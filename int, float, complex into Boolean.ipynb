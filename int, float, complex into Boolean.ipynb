{
 "cells": [
  {
   "cell_type": "markdown",
   "id": "7393855d",
   "metadata": {},
   "source": [
    "# int >> Boolean"
   ]
  },
  {
   "cell_type": "markdown",
   "id": "0da58dbc",
   "metadata": {},
   "source": [
    "int >> bool >> True"
   ]
  },
  {
   "cell_type": "code",
   "execution_count": 52,
   "id": "1eacad9b",
   "metadata": {},
   "outputs": [
    {
     "name": "stdout",
     "output_type": "stream",
     "text": [
      "<class 'bool'>\n",
      "True\n"
     ]
    }
   ],
   "source": [
    "a=10    #except zero we put any value negative and positive. we get True result.\n",
    "a=bool(a)\n",
    "print(type(a))\n",
    "print(a)"
   ]
  },
  {
   "cell_type": "markdown",
   "id": "f35d0ceb",
   "metadata": {},
   "source": [
    "int >> bool >> False"
   ]
  },
  {
   "cell_type": "code",
   "execution_count": 53,
   "id": "7db32c16",
   "metadata": {},
   "outputs": [
    {
     "name": "stdout",
     "output_type": "stream",
     "text": [
      "<class 'bool'>\n",
      "False\n"
     ]
    }
   ],
   "source": [
    "a=0     #in bool false rseult get only input is zero.\n",
    "a=bool(a)\n",
    "print(type(a))\n",
    "print(a)"
   ]
  },
  {
   "cell_type": "markdown",
   "id": "a6150119",
   "metadata": {},
   "source": [
    "# Float >> Boolean"
   ]
  },
  {
   "cell_type": "markdown",
   "id": "59efb249",
   "metadata": {},
   "source": [
    "Float >> bool >> True"
   ]
  },
  {
   "cell_type": "code",
   "execution_count": 55,
   "id": "f049b85f",
   "metadata": {},
   "outputs": [
    {
     "name": "stdout",
     "output_type": "stream",
     "text": [
      "<class 'bool'>\n",
      "True\n"
     ]
    }
   ],
   "source": [
    "a=4.8        #except zero we put any value negative and positive. we get True result.\n",
    "a=bool(a)\n",
    "print(type(a))\n",
    "print(a)"
   ]
  },
  {
   "cell_type": "markdown",
   "id": "38d0545a",
   "metadata": {},
   "source": [
    "Float >> bool >> False"
   ]
  },
  {
   "cell_type": "code",
   "execution_count": 56,
   "id": "adfef5a3",
   "metadata": {},
   "outputs": [
    {
     "name": "stdout",
     "output_type": "stream",
     "text": [
      "<class 'bool'>\n",
      "False\n"
     ]
    }
   ],
   "source": [
    "a=0.0      #in bool false rseult get only input is zero.\n",
    "a=bool(a)\n",
    "print(type(a))\n",
    "print(a)"
   ]
  },
  {
   "cell_type": "markdown",
   "id": "614e71a6",
   "metadata": {},
   "source": [
    "# Complex >> Boolean"
   ]
  },
  {
   "cell_type": "markdown",
   "id": "f167762a",
   "metadata": {},
   "source": [
    "complex >> bool >> True"
   ]
  },
  {
   "cell_type": "code",
   "execution_count": 64,
   "id": "3ab0ba8c",
   "metadata": {},
   "outputs": [
    {
     "name": "stdout",
     "output_type": "stream",
     "text": [
      "<class 'complex'>\n",
      "<class 'bool'>\n",
      "True\n"
     ]
    }
   ],
   "source": [
    "a=1+0j       #in complex real or imaginary part only one are non zero so result get in bool are true.\n",
    "print(type(a))\n",
    "a=bool(a)\n",
    "print(type(a))\n",
    "print(a)"
   ]
  },
  {
   "cell_type": "markdown",
   "id": "1515377b",
   "metadata": {},
   "source": [
    "complex >> bool >> False"
   ]
  },
  {
   "cell_type": "code",
   "execution_count": 67,
   "id": "bdaf45c3",
   "metadata": {},
   "outputs": [
    {
     "name": "stdout",
     "output_type": "stream",
     "text": [
      "<class 'complex'>\n",
      "<class 'bool'>\n",
      "False\n"
     ]
    }
   ],
   "source": [
    "a=0+0j                 #Both are zero then get False ans.\n",
    "print(type(a))\n",
    "a=bool(a)\n",
    "print(type(a))\n",
    "print(a)"
   ]
  },
  {
   "cell_type": "code",
   "execution_count": null,
   "id": "d37f04ac",
   "metadata": {},
   "outputs": [],
   "source": []
  }
 ],
 "metadata": {
  "kernelspec": {
   "display_name": "Python 3 (ipykernel)",
   "language": "python",
   "name": "python3"
  },
  "language_info": {
   "codemirror_mode": {
    "name": "ipython",
    "version": 3
   },
   "file_extension": ".py",
   "mimetype": "text/x-python",
   "name": "python",
   "nbconvert_exporter": "python",
   "pygments_lexer": "ipython3",
   "version": "3.10.1"
  }
 },
 "nbformat": 4,
 "nbformat_minor": 5
}
