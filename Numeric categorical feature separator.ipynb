{
 "cells": [
  {
   "cell_type": "code",
   "execution_count": 1,
   "id": "aa591cb3",
   "metadata": {},
   "outputs": [],
   "source": [
    "import pandas as pd"
   ]
  },
  {
   "cell_type": "code",
   "execution_count": 2,
   "id": "7671b3af",
   "metadata": {},
   "outputs": [],
   "source": [
    "df=pd.read_csv(r\"E:\\10.python\\project\\house_rent_prediction\\Pune_rent.csv\")"
   ]
  },
  {
   "cell_type": "code",
   "execution_count": 4,
   "id": "e523400f",
   "metadata": {},
   "outputs": [
    {
     "name": "stdout",
     "output_type": "stream",
     "text": [
      "Numeric Columns >>\n",
      " Index(['bedroom', 'area'], dtype='object')\n",
      "**************************************************\n",
      "Categorical columns >>\n",
      " Index(['seller_type', 'layout_type', 'property_type', 'locality', 'price',\n",
      "       'furnish_type', 'bathroom'],\n",
      "      dtype='object')\n",
      "**************************************************\n",
      "**************************************************\n",
      "Numeric feature null value columns >>\n",
      " Not any null value in any Numeric feature\n",
      "**************************************************\n",
      "In categorical feature null values columns  >>\n",
      " ['bathroom']\n"
     ]
    }
   ],
   "source": [
    "# In first class split the feature present in dataframe in to type 1) Numeric features 2) categorical features\n",
    "class DataSplit():\n",
    "    def data_split(self,df):\n",
    "        self.Numeric_columns=df.select_dtypes(['int64','float64']).columns\n",
    "        self.null_check=df[self.Numeric_columns].isnull().sum()\n",
    "#         print(self.null_check)\n",
    "        print('Numeric Columns >>\\n',self.Numeric_columns)\n",
    "        print('*'*50)\n",
    "        self.Cat_columns=df.select_dtypes(['O']).columns\n",
    "        self.null_check2=df[self.Cat_columns].isnull().sum()\n",
    "        print('Categorical columns >>\\n',self.Cat_columns)\n",
    "        print('*'*50)\n",
    "#After split find which features present null values.To make this second class, and use here single inheritance.    \n",
    "class NullValueColumns(DataSplit):\n",
    "    def Data_null_check(self,df):\n",
    "        self.df=df\n",
    "        self.data_split(self.df)\n",
    "#         print(self.Numeric_columns)\n",
    "        print('*'*50)\n",
    "        NumNullColumns=[var for var in self.Numeric_columns if self.null_check[var]>0 ]\n",
    "        if NumNullColumns:\n",
    "            print('Numeric feature null value columns>>\\n',end=' ')\n",
    "            yield NumNullColumns\n",
    "        else:\n",
    "            print('Numeric feature null value columns >>\\n',end=' ')\n",
    "            yield 'Not any null value in any Numeric feature'\n",
    "            \n",
    "        print('*'*50)\n",
    "            \n",
    "        CatNullColumns=[var for var in self.Cat_columns if self.null_check2[var]>0 ]\n",
    "        if CatNullColumns:\n",
    "            print('In categorical feature null values columns  >>\\n', end=' ')\n",
    "            yield CatNullColumns\n",
    "        else:\n",
    "            print('In categorical feature null values columns >>\\n', end=' ')\n",
    "            yield 'Not any null value in any categorical feature'\n",
    "OB=NullValueColumns()  #create the instance\n",
    "for i in OB.Data_null_check(df):  #pass here df as argument\n",
    "    print(i)     #yield create genrator object use for loop to iterate that genrator object."
   ]
  },
  {
   "cell_type": "code",
   "execution_count": null,
   "id": "c60b0f71",
   "metadata": {},
   "outputs": [],
   "source": [
    "# check another data frame"
   ]
  },
  {
   "cell_type": "code",
   "execution_count": 5,
   "id": "c2e5f633",
   "metadata": {},
   "outputs": [
    {
     "name": "stdout",
     "output_type": "stream",
     "text": [
      "Numeric Columns >>\n",
      " Index(['PassengerId', 'Survived', 'Pclass', 'Age', 'SibSp', 'Parch', 'Fare'], dtype='object')\n",
      "**************************************************\n",
      "Categorical columns >>\n",
      " Index(['Name', 'Gender', 'Ticket', 'Cabin', 'Embarked'], dtype='object')\n",
      "**************************************************\n",
      "**************************************************\n",
      "Numeric feature null value columns>>\n",
      " ['Age']\n",
      "**************************************************\n",
      "In categorical feature null values columns  >>\n",
      " ['Cabin', 'Embarked']\n"
     ]
    }
   ],
   "source": [
    "df=pd.read_csv(r\"E:\\10.python\\03\\14.03.2022\\03_14_Pandas-20220315T052240Z-001\\03_14_Pandas\\titanic.csv\")\n",
    "for i in OB.Data_null_check(df):\n",
    "    z=i\n",
    "    print(i)"
   ]
  },
  {
   "cell_type": "code",
   "execution_count": null,
   "id": "0ed3877b",
   "metadata": {},
   "outputs": [],
   "source": []
  },
  {
   "cell_type": "code",
   "execution_count": null,
   "id": "59a633d0",
   "metadata": {},
   "outputs": [],
   "source": []
  },
  {
   "cell_type": "code",
   "execution_count": null,
   "id": "5b7d0823",
   "metadata": {},
   "outputs": [],
   "source": []
  }
 ],
 "metadata": {
  "kernelspec": {
   "display_name": "Python 3 (ipykernel)",
   "language": "python",
   "name": "python3"
  },
  "language_info": {
   "codemirror_mode": {
    "name": "ipython",
    "version": 3
   },
   "file_extension": ".py",
   "mimetype": "text/x-python",
   "name": "python",
   "nbconvert_exporter": "python",
   "pygments_lexer": "ipython3",
   "version": "3.10.1"
  }
 },
 "nbformat": 4,
 "nbformat_minor": 5
}
